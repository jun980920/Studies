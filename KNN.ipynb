{
 "cells": [
  {
   "cell_type": "code",
   "execution_count": 1,
   "id": "a56f1e23",
   "metadata": {},
   "outputs": [],
   "source": [
    "#닥스훈트의 몸 길이와 몸 높이\n",
    "dachshund=[[77, 25], [78, 28], [85, 19], [83, 30], [73, 21], [77, 22], [73, 17], [80, 35]]\n",
    "\n",
    "#사모예드의 몸 길이와 몸 높이\n",
    "samoyed=[[75, 56], [77, 57], [86, 50], [86, 53],[79, 60], [83, 53], [83, 49], [88, 61]]\n",
    "\n",
    "#말티즈의 몸 길이와 몸 높이\n",
    "maltese=[[34, 22], [38, 25], [38,19],[41,30],[30,21],[37, 24], [41, 28], [35, 18]]"
   ]
  },
  {
   "cell_type": "code",
   "execution_count": 2,
   "id": "aec84bc4",
   "metadata": {},
   "outputs": [],
   "source": [
    "dogs=dachshund+samoyed+maltese"
   ]
  },
  {
   "cell_type": "code",
   "execution_count": 5,
   "id": "118b5d2b",
   "metadata": {},
   "outputs": [],
   "source": [
    "labels=[0]*len(dachshund)+[1]*len(samoyed)+[2]*len(maltese)\n",
    "#강아지들의 레이블들이 몇개가 존재하는가"
   ]
  },
  {
   "cell_type": "code",
   "execution_count": 6,
   "id": "8c94fdc1",
   "metadata": {},
   "outputs": [],
   "source": [
    "from sklearn.neighbors import KNeighborsClassifier"
   ]
  },
  {
   "cell_type": "code",
   "execution_count": 8,
   "id": "d5d9a491",
   "metadata": {},
   "outputs": [],
   "source": [
    "from sklearn import metrics"
   ]
  },
  {
   "cell_type": "code",
   "execution_count": 9,
   "id": "6bf3f85c",
   "metadata": {},
   "outputs": [],
   "source": [
    "#강아지와 레이블을 연결한 것을 딕셔너리에 저장\n",
    "dog_classes={0:'닥스훈트', 1:'사모예드', 2:'말티즈'}"
   ]
  },
  {
   "cell_type": "code",
   "execution_count": 19,
   "id": "f527c2ac",
   "metadata": {},
   "outputs": [
    {
     "name": "stdout",
     "output_type": "stream",
     "text": [
      "A : n_neighbors가  1 일때 :  말티즈\n",
      "A : n_neighbors가  2 일때 :  말티즈\n",
      "A : n_neighbors가  3 일때 :  말티즈\n",
      "A : n_neighbors가  4 일때 :  사모예드\n",
      "A : n_neighbors가  5 일때 :  사모예드\n",
      "None\n"
     ]
    }
   ],
   "source": [
    "def result(data, label):\n",
    "    for n in range(1, 6):\n",
    "        #모델을 생성한다\n",
    "        knn=KNeighborsClassifier(n_neighbors=n)\n",
    "        #피팅 (X, Y): X는 데이터 배열의 집합, Y는 각 점의 분류 결과\n",
    "        knn.fit(dogs, labels)\n",
    "        #새로운 데이터를 예측한다.\n",
    "        y_pred=knn.predict(data)\n",
    "        print(label,': n_neighbors가 ', n, '일때 : ', dog_classes[y_pred[0]])"
   ]
  },
  {
   "cell_type": "code",
   "execution_count": 36,
   "id": "5028269b",
   "metadata": {},
   "outputs": [
    {
     "name": "stdout",
     "output_type": "stream",
     "text": [
      "A : n_neighbors가  1 일때 :  말티즈\n",
      "A : n_neighbors가  2 일때 :  말티즈\n",
      "A : n_neighbors가  3 일때 :  말티즈\n",
      "A : n_neighbors가  4 일때 :  사모예드\n",
      "A : n_neighbors가  5 일때 :  사모예드\n",
      "None\n",
      "B : n_neighbors가  1 일때 :  닥스훈트\n",
      "B : n_neighbors가  2 일때 :  닥스훈트\n",
      "B : n_neighbors가  3 일때 :  닥스훈트\n",
      "B : n_neighbors가  4 일때 :  닥스훈트\n",
      "B : n_neighbors가  5 일때 :  닥스훈트\n",
      "None\n",
      "C : n_neighbors가  1 일때 :  닥스훈트\n",
      "C : n_neighbors가  2 일때 :  닥스훈트\n",
      "C : n_neighbors가  3 일때 :  말티즈\n",
      "C : n_neighbors가  4 일때 :  닥스훈트\n",
      "C : n_neighbors가  5 일때 :  닥스훈트\n",
      "None\n",
      "D : n_neighbors가  1 일때 :  닥스훈트\n",
      "D : n_neighbors가  2 일때 :  닥스훈트\n",
      "D : n_neighbors가  3 일때 :  사모예드\n",
      "D : n_neighbors가  4 일때 :  사모예드\n",
      "D : n_neighbors가  5 일때 :  사모예드\n",
      "None\n",
      "E : n_neighbors가  1 일때 :  닥스훈트\n",
      "E : n_neighbors가  2 일때 :  닥스훈트\n",
      "E : n_neighbors가  3 일때 :  닥스훈트\n",
      "E : n_neighbors가  4 일때 :  닥스훈트\n",
      "E : n_neighbors가  5 일때 :  닥스훈트\n",
      "None\n"
     ]
    },
    {
     "data": {
      "text/plain": [
       "56"
      ]
     },
     "execution_count": 36,
     "metadata": {},
     "output_type": "execute_result"
    }
   ],
   "source": [
    "A=[[56, 44]]\n",
    "print(result(A, 'A'))\n",
    "B=[[74, 29]]\n",
    "print(result(B, 'B'))\n",
    "C=[[59, 30]]\n",
    "print(result(C, 'C'))\n",
    "D=[[70, 43]]\n",
    "print(result(D, 'D'))\n",
    "E=[[75, 35]]\n",
    "print(result(E, 'E'))"
   ]
  },
  {
   "cell_type": "code",
   "execution_count": 22,
   "id": "12938823",
   "metadata": {},
   "outputs": [],
   "source": [
    "#공간에 시각화 표현\n",
    "import matplotlib.pyplot as plt\n",
    "import numpy as np\n",
    "import seaborn as sns"
   ]
  },
  {
   "cell_type": "code",
   "execution_count": 23,
   "id": "07feaea9",
   "metadata": {},
   "outputs": [],
   "source": [
    "dachshund_length=[77, 78, 85, 83, 73, 77, 73, 80]\n",
    "dachshund_height=[25, 28, 19, 30, 21, 22, 17, 35]\n",
    "samoyed_length=[75, 77, 86, 86, 79, 83, 83, 88]\n",
    "samoyed_height=[56, 57, 50, 53, 60, 53, 49, 61]\n",
    "maltese_length=[33, 38, 38, 41, 30, 37, 41, 35]\n",
    "maltese_height=[22, 25, 19, 30, 21, 24, 28, 18]"
   ]
  },
  {
   "cell_type": "code",
   "execution_count": 48,
   "id": "75d5ea8b",
   "metadata": {},
   "outputs": [
    {
     "name": "stderr",
     "output_type": "stream",
     "text": [
      "C:\\Users\\14112\\anaconda3\\lib\\site-packages\\seaborn\\_decorators.py:36: FutureWarning: Pass the following variables as keyword args: x, y. From version 0.12, the only valid positional argument will be `data`, and passing other arguments without an explicit keyword will result in an error or misinterpretation.\n",
      "  warnings.warn(\n",
      "C:\\Users\\14112\\anaconda3\\lib\\site-packages\\seaborn\\_decorators.py:36: FutureWarning: Pass the following variables as keyword args: x, y. From version 0.12, the only valid positional argument will be `data`, and passing other arguments without an explicit keyword will result in an error or misinterpretation.\n",
      "  warnings.warn(\n",
      "C:\\Users\\14112\\anaconda3\\lib\\site-packages\\seaborn\\_decorators.py:36: FutureWarning: Pass the following variables as keyword args: x, y. From version 0.12, the only valid positional argument will be `data`, and passing other arguments without an explicit keyword will result in an error or misinterpretation.\n",
      "  warnings.warn(\n"
     ]
    },
    {
     "data": {
      "text/plain": [
       "<matplotlib.legend.Legend at 0x22af2ec2250>"
      ]
     },
     "execution_count": 48,
     "metadata": {},
     "output_type": "execute_result"
    },
    {
     "data": {
      "image/png": "[encoded data removed]",
      "text/plain": [
       "<Figure size 432x288 with 1 Axes>"
      ]
     },
     "metadata": {
      "needs_background": "light"
     },
     "output_type": "display_data"
    }
   ],
   "source": [
    "sns.scatterplot(dachshund_length, dachshund_height, label='Dachshund', color='red')\n",
    "sns.scatterplot(samoyed_length, samoyed_height, label='Samoyed', color='blue', marker='^')\n",
    "sns.scatterplot(maltese_length, maltese_height, label='Maltese', color='green', marker='s')\n",
    "plt.scatter(56, 44, s=200, c='magenta', label='A')\n",
    "plt.scatter(74, 29, s=200, c='gray', label='B')\n",
    "plt.scatter(59, 30, s=200, c='cyan', label='C')\n",
    "plt.scatter(70, 43, s=200, c='green', label='D')\n",
    "plt.scatter(75, 35, s=200, c='pink', label='E')\n",
    "plt.xlabel(\"Length\")\n",
    "plt.ylabel(\"Height\")\n",
    "plt.title('Dog size')\n",
    "plt.legend(bbox_to_anchor=(1, 1.02), loc=2)"
   ]
  },
  {
   "cell_type": "code",
   "execution_count": null,
   "id": "c6c22835",
   "metadata": {},
   "outputs": [],
   "source": []
  }
 ],
 "metadata": {
  "kernelspec": {
   "display_name": "Python 3",
   "language": "python",
   "name": "python3"
  },
  "language_info": {
   "codemirror_mode": {
    "name": "ipython",
    "version": 3
   },
   "file_extension": ".py",
   "mimetype": "text/x-python",
   "name": "python",
   "nbconvert_exporter": "python",
   "pygments_lexer": "ipython3",
   "version": "3.8.8"
  },
  "toc": {
   "base_numbering": 1,
   "nav_menu": {},
   "number_sections": true,
   "sideBar": true,
   "skip_h1_title": false,
   "title_cell": "Table of Contents",
   "title_sidebar": "Contents",
   "toc_cell": false,
   "toc_position": {},
   "toc_section_display": true,
   "toc_window_display": false
  },
  "varInspector": {
   "cols": {
    "lenName": 16,
    "lenType": 16,
    "lenVar": 40
   },
   "kernels_config": {
    "python": {
     "delete_cmd_postfix": "",
     "delete_cmd_prefix": "del ",
     "library": "var_list.py",
     "varRefreshCmd": "print(var_dic_list())"
    },
    "r": {
     "delete_cmd_postfix": ") ",
     "delete_cmd_prefix": "rm(",
     "library": "var_list.r",
     "varRefreshCmd": "cat(var_dic_list()) "
    }
   },
   "types_to_exclude": [
    "module",
    "function",
    "builtin_function_or_method",
    "instance",
    "_Feature"
   ],
   "window_display": false
  }
 },
 "nbformat": 4,
 "nbformat_minor": 5
}
