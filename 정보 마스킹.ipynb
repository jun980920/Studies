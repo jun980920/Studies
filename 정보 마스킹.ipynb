{
 "cells": [
  {
   "cell_type": "code",
   "execution_count": 1,
   "id": "7c3b4dc4",
   "metadata": {},
   "outputs": [],
   "source": [
    "import pandas as pd"
   ]
  },
  {
   "cell_type": "code",
   "execution_count": 2,
   "id": "70c4b8f4",
   "metadata": {},
   "outputs": [],
   "source": [
    "import numpy as np\n",
    "import seaborn as sns\n",
    "\n",
    "%matplotlib inline"
   ]
  },
  {
   "cell_type": "code",
   "execution_count": 67,
   "id": "017709a5",
   "metadata": {},
   "outputs": [],
   "source": [
    "df=pd.read_csv('./전국도시공원표준데이터.csv', encoding='cp949')"
   ]
  },
  {
   "cell_type": "code",
   "execution_count": 68,
   "id": "ddcde3f3",
   "metadata": {},
   "outputs": [
    {
     "data": {
      "text/html": [
       "<div>\n",
       "<style scoped>\n",
       "    .dataframe tbody tr th:only-of-type {\n",
       "        vertical-align: middle;\n",
       "    }\n",
       "\n",
       "    .dataframe tbody tr th {\n",
       "        vertical-align: top;\n",
       "    }\n",
       "\n",
       "    .dataframe thead th {\n",
       "        text-align: right;\n",
       "    }\n",
       "</style>\n",
       "<table border=\"1\" class=\"dataframe\">\n",
       "  <thead>\n",
       "    <tr style=\"text-align: right;\">\n",
       "      <th></th>\n",
       "      <th>관리번호</th>\n",
       "      <th>공원명</th>\n",
       "      <th>공원구분</th>\n",
       "      <th>소재지도로명주소</th>\n",
       "      <th>소재지지번주소</th>\n",
       "      <th>위도</th>\n",
       "      <th>경도</th>\n",
       "      <th>공원면적</th>\n",
       "      <th>공원보유시설(운동시설)</th>\n",
       "      <th>공원보유시설(유희시설)</th>\n",
       "      <th>공원보유시설(편익시설)</th>\n",
       "      <th>공원보유시설(교양시설)</th>\n",
       "      <th>공원보유시설(기타시설)</th>\n",
       "      <th>지정고시일</th>\n",
       "      <th>관리기관명</th>\n",
       "      <th>전화번호</th>\n",
       "      <th>데이터기준일자</th>\n",
       "      <th>제공기관코드</th>\n",
       "      <th>제공기관명</th>\n",
       "      <th>Unnamed: 19</th>\n",
       "    </tr>\n",
       "  </thead>\n",
       "  <tbody>\n",
       "    <tr>\n",
       "      <th>0</th>\n",
       "      <td>26440-00001</td>\n",
       "      <td>구랑공원</td>\n",
       "      <td>문화공원</td>\n",
       "      <td>NaN</td>\n",
       "      <td>부산광역시 강서구 구랑동 1199-7</td>\n",
       "      <td>35.157215</td>\n",
       "      <td>128.854935</td>\n",
       "      <td>9137.0</td>\n",
       "      <td>4</td>\n",
       "      <td>NaN</td>\n",
       "      <td>화장실</td>\n",
       "      <td>NaN</td>\n",
       "      <td>팔각정자, 파고라2, 평의자6, 앉음벽14.38m, 축구장(골대2), 컨테이너, 안...</td>\n",
       "      <td>2011-09-02</td>\n",
       "      <td>부산광역시 강서구청 녹지공원과</td>\n",
       "      <td>051-970-4536</td>\n",
       "      <td>2019-05-02</td>\n",
       "      <td>3360000</td>\n",
       "      <td>부산광역시 강서구</td>\n",
       "      <td>NaN</td>\n",
       "    </tr>\n",
       "    <tr>\n",
       "      <th>1</th>\n",
       "      <td>26440-00002</td>\n",
       "      <td>압곡공원</td>\n",
       "      <td>근린공원</td>\n",
       "      <td>NaN</td>\n",
       "      <td>부산광역시 강서구 구랑동 1219</td>\n",
       "      <td>35.154655</td>\n",
       "      <td>128.854727</td>\n",
       "      <td>33756.0</td>\n",
       "      <td>4</td>\n",
       "      <td>NaN</td>\n",
       "      <td>NaN</td>\n",
       "      <td>NaN</td>\n",
       "      <td>배드민턴장, 족구장, 파고라4, 안내판, 볼라드7, 데크435.11㎡, 데크계단19...</td>\n",
       "      <td>2008-02-28</td>\n",
       "      <td>부산광역시 강서구청 녹지공원과</td>\n",
       "      <td>051-970-4536</td>\n",
       "      <td>2019-05-02</td>\n",
       "      <td>3360000</td>\n",
       "      <td>부산광역시 강서구</td>\n",
       "      <td>NaN</td>\n",
       "    </tr>\n",
       "    <tr>\n",
       "      <th>2</th>\n",
       "      <td>26440-00003</td>\n",
       "      <td>서연정공원</td>\n",
       "      <td>소공원</td>\n",
       "      <td>NaN</td>\n",
       "      <td>부산광역시 강서구 대저1동 1330-7</td>\n",
       "      <td>35.216183</td>\n",
       "      <td>128.969558</td>\n",
       "      <td>646.0</td>\n",
       "      <td>7</td>\n",
       "      <td>NaN</td>\n",
       "      <td>NaN</td>\n",
       "      <td>NaN</td>\n",
       "      <td>앉음벽13.57m, 트렐리스3, 안내판2, 플랜트2, 파고라, 평의자4</td>\n",
       "      <td>2013-01-23</td>\n",
       "      <td>부산광역시 강서구청 녹지공원과</td>\n",
       "      <td>051-970-4536</td>\n",
       "      <td>2019-05-02</td>\n",
       "      <td>3360000</td>\n",
       "      <td>부산광역시 강서구</td>\n",
       "      <td>NaN</td>\n",
       "    </tr>\n",
       "    <tr>\n",
       "      <th>3</th>\n",
       "      <td>26440-00004</td>\n",
       "      <td>용두공원</td>\n",
       "      <td>어린이공원</td>\n",
       "      <td>NaN</td>\n",
       "      <td>부산광역시 강서구 대저2동 1870-67</td>\n",
       "      <td>35.183679</td>\n",
       "      <td>128.956007</td>\n",
       "      <td>1620.0</td>\n",
       "      <td>NaN</td>\n",
       "      <td>조합놀이기구, 그네</td>\n",
       "      <td>NaN</td>\n",
       "      <td>NaN</td>\n",
       "      <td>정자, 농구장, 평의자6</td>\n",
       "      <td>1998-07-25</td>\n",
       "      <td>부산광역시 강서구청 녹지공원과</td>\n",
       "      <td>051-970-4536</td>\n",
       "      <td>2019-05-02</td>\n",
       "      <td>3360000</td>\n",
       "      <td>부산광역시 강서구</td>\n",
       "      <td>NaN</td>\n",
       "    </tr>\n",
       "    <tr>\n",
       "      <th>4</th>\n",
       "      <td>26440-00005</td>\n",
       "      <td>새동내공원</td>\n",
       "      <td>어린이공원</td>\n",
       "      <td>NaN</td>\n",
       "      <td>부산광역시 강서구 대저2동 2407-1</td>\n",
       "      <td>35.174568</td>\n",
       "      <td>128.950612</td>\n",
       "      <td>1009.0</td>\n",
       "      <td>8</td>\n",
       "      <td>조합놀이기구, 그네, 흔들놀이기구2</td>\n",
       "      <td>NaN</td>\n",
       "      <td>NaN</td>\n",
       "      <td>정자, 평의자14, 트렐리스2, 안내판, 볼라드</td>\n",
       "      <td>1995-04-07</td>\n",
       "      <td>부산광역시 강서구청 녹지공원과</td>\n",
       "      <td>051-970-4536</td>\n",
       "      <td>2019-05-02</td>\n",
       "      <td>3360000</td>\n",
       "      <td>부산광역시 강서구</td>\n",
       "      <td>NaN</td>\n",
       "    </tr>\n",
       "    <tr>\n",
       "      <th>...</th>\n",
       "      <td>...</td>\n",
       "      <td>...</td>\n",
       "      <td>...</td>\n",
       "      <td>...</td>\n",
       "      <td>...</td>\n",
       "      <td>...</td>\n",
       "      <td>...</td>\n",
       "      <td>...</td>\n",
       "      <td>...</td>\n",
       "      <td>...</td>\n",
       "      <td>...</td>\n",
       "      <td>...</td>\n",
       "      <td>...</td>\n",
       "      <td>...</td>\n",
       "      <td>...</td>\n",
       "      <td>...</td>\n",
       "      <td>...</td>\n",
       "      <td>...</td>\n",
       "      <td>...</td>\n",
       "      <td>...</td>\n",
       "    </tr>\n",
       "    <tr>\n",
       "      <th>18132</th>\n",
       "      <td>28140-00009</td>\n",
       "      <td>송림4공원</td>\n",
       "      <td>어린이공원</td>\n",
       "      <td>NaN</td>\n",
       "      <td>인천광역시 동구 송림동 291-6</td>\n",
       "      <td>37.478715</td>\n",
       "      <td>126.653257</td>\n",
       "      <td>412.9</td>\n",
       "      <td>NaN</td>\n",
       "      <td>야외무대</td>\n",
       "      <td>NaN</td>\n",
       "      <td>NaN</td>\n",
       "      <td>조형파고라, 앉음벽</td>\n",
       "      <td>1998-07-20</td>\n",
       "      <td>인천광역시 동구청</td>\n",
       "      <td>032-770-6205</td>\n",
       "      <td>2019-07-30</td>\n",
       "      <td>3500000</td>\n",
       "      <td>인천광역시 동구</td>\n",
       "      <td>NaN</td>\n",
       "    </tr>\n",
       "    <tr>\n",
       "      <th>18133</th>\n",
       "      <td>47760-00002</td>\n",
       "      <td>서부공원</td>\n",
       "      <td>근린공원</td>\n",
       "      <td>NaN</td>\n",
       "      <td>경상북도 영양군 영양읍 서부리 123</td>\n",
       "      <td>36.660456</td>\n",
       "      <td>129.114953</td>\n",
       "      <td>56045.0</td>\n",
       "      <td>NaN</td>\n",
       "      <td>NaN</td>\n",
       "      <td>화장실</td>\n",
       "      <td>NaN</td>\n",
       "      <td>NaN</td>\n",
       "      <td>1973-03-02</td>\n",
       "      <td>경상북도 영양군청</td>\n",
       "      <td>054-680-6340</td>\n",
       "      <td>2019-09-05</td>\n",
       "      <td>5170000</td>\n",
       "      <td>경상북도 영양군</td>\n",
       "      <td>NaN</td>\n",
       "    </tr>\n",
       "    <tr>\n",
       "      <th>18134</th>\n",
       "      <td>47760-00003</td>\n",
       "      <td>입암공원</td>\n",
       "      <td>근린공원</td>\n",
       "      <td>NaN</td>\n",
       "      <td>경상북도 영양군 입암면 신구리 산27-5</td>\n",
       "      <td>36.594802</td>\n",
       "      <td>129.093007</td>\n",
       "      <td>109262.0</td>\n",
       "      <td>NaN</td>\n",
       "      <td>NaN</td>\n",
       "      <td>NaN</td>\n",
       "      <td>NaN</td>\n",
       "      <td>NaN</td>\n",
       "      <td>1977-06-29</td>\n",
       "      <td>경상북도 영양군청</td>\n",
       "      <td>054-680-6340</td>\n",
       "      <td>2019-09-05</td>\n",
       "      <td>5170000</td>\n",
       "      <td>경상북도 영양군</td>\n",
       "      <td>NaN</td>\n",
       "    </tr>\n",
       "    <tr>\n",
       "      <th>18135</th>\n",
       "      <td>47760-00004</td>\n",
       "      <td>수비공원</td>\n",
       "      <td>근린공원</td>\n",
       "      <td>NaN</td>\n",
       "      <td>경상북도 영양군 수비면 발리리 산48</td>\n",
       "      <td>36.761440</td>\n",
       "      <td>129.200011</td>\n",
       "      <td>67159.0</td>\n",
       "      <td>NaN</td>\n",
       "      <td>NaN</td>\n",
       "      <td>NaN</td>\n",
       "      <td>NaN</td>\n",
       "      <td>NaN</td>\n",
       "      <td>1978-02-14</td>\n",
       "      <td>경상북도 영양군청</td>\n",
       "      <td>054-680-6340</td>\n",
       "      <td>2019-09-05</td>\n",
       "      <td>5170000</td>\n",
       "      <td>경상북도 영양군</td>\n",
       "      <td>NaN</td>\n",
       "    </tr>\n",
       "    <tr>\n",
       "      <th>18136</th>\n",
       "      <td>47760-00005</td>\n",
       "      <td>삼지연꽃 테마파크</td>\n",
       "      <td>수변공원</td>\n",
       "      <td>NaN</td>\n",
       "      <td>경상북도 영양군 영양읍 삼지리 200</td>\n",
       "      <td>36.662816</td>\n",
       "      <td>129.129372</td>\n",
       "      <td>380000.0</td>\n",
       "      <td>NaN</td>\n",
       "      <td>NaN</td>\n",
       "      <td>화장실</td>\n",
       "      <td>NaN</td>\n",
       "      <td>체험장</td>\n",
       "      <td>2009-11-19</td>\n",
       "      <td>경상북도 영양군청</td>\n",
       "      <td>054-680-6340</td>\n",
       "      <td>2019-09-05</td>\n",
       "      <td>5170000</td>\n",
       "      <td>경상북도 영양군</td>\n",
       "      <td>NaN</td>\n",
       "    </tr>\n",
       "  </tbody>\n",
       "</table>\n",
       "<p>18137 rows × 20 columns</p>\n",
       "</div>"
      ],
      "text/plain": [
       "              관리번호        공원명   공원구분 소재지도로명주소                 소재지지번주소  \\\n",
       "0      26440-00001       구랑공원   문화공원      NaN    부산광역시 강서구 구랑동 1199-7   \n",
       "1      26440-00002       압곡공원   근린공원      NaN      부산광역시 강서구 구랑동 1219   \n",
       "2      26440-00003      서연정공원    소공원      NaN   부산광역시 강서구 대저1동 1330-7   \n",
       "3      26440-00004       용두공원  어린이공원      NaN  부산광역시 강서구 대저2동 1870-67   \n",
       "4      26440-00005      새동내공원  어린이공원      NaN   부산광역시 강서구 대저2동 2407-1   \n",
       "...            ...        ...    ...      ...                     ...   \n",
       "18132  28140-00009      송림4공원  어린이공원      NaN      인천광역시 동구 송림동 291-6   \n",
       "18133  47760-00002       서부공원   근린공원      NaN    경상북도 영양군 영양읍 서부리 123   \n",
       "18134  47760-00003       입암공원   근린공원      NaN  경상북도 영양군 입암면 신구리 산27-5   \n",
       "18135  47760-00004       수비공원   근린공원      NaN    경상북도 영양군 수비면 발리리 산48   \n",
       "18136  47760-00005  삼지연꽃 테마파크   수변공원      NaN    경상북도 영양군 영양읍 삼지리 200   \n",
       "\n",
       "              위도          경도      공원면적 공원보유시설(운동시설)         공원보유시설(유희시설)  \\\n",
       "0      35.157215  128.854935    9137.0            4                  NaN   \n",
       "1      35.154655  128.854727   33756.0            4                  NaN   \n",
       "2      35.216183  128.969558     646.0            7                  NaN   \n",
       "3      35.183679  128.956007    1620.0          NaN           조합놀이기구, 그네   \n",
       "4      35.174568  128.950612    1009.0            8  조합놀이기구, 그네, 흔들놀이기구2   \n",
       "...          ...         ...       ...          ...                  ...   \n",
       "18132  37.478715  126.653257     412.9          NaN                 야외무대   \n",
       "18133  36.660456  129.114953   56045.0          NaN                  NaN   \n",
       "18134  36.594802  129.093007  109262.0          NaN                  NaN   \n",
       "18135  36.761440  129.200011   67159.0          NaN                  NaN   \n",
       "18136  36.662816  129.129372  380000.0          NaN                  NaN   \n",
       "\n",
       "      공원보유시설(편익시설) 공원보유시설(교양시설)  \\\n",
       "0              화장실          NaN   \n",
       "1              NaN          NaN   \n",
       "2              NaN          NaN   \n",
       "3              NaN          NaN   \n",
       "4              NaN          NaN   \n",
       "...            ...          ...   \n",
       "18132          NaN          NaN   \n",
       "18133          화장실          NaN   \n",
       "18134          NaN          NaN   \n",
       "18135          NaN          NaN   \n",
       "18136          화장실          NaN   \n",
       "\n",
       "                                            공원보유시설(기타시설)       지정고시일  \\\n",
       "0      팔각정자, 파고라2, 평의자6, 앉음벽14.38m, 축구장(골대2), 컨테이너, 안...  2011-09-02   \n",
       "1      배드민턴장, 족구장, 파고라4, 안내판, 볼라드7, 데크435.11㎡, 데크계단19...  2008-02-28   \n",
       "2                앉음벽13.57m, 트렐리스3, 안내판2, 플랜트2, 파고라, 평의자4  2013-01-23   \n",
       "3                                          정자, 농구장, 평의자6  1998-07-25   \n",
       "4                             정자, 평의자14, 트렐리스2, 안내판, 볼라드  1995-04-07   \n",
       "...                                                  ...         ...   \n",
       "18132                                         조형파고라, 앉음벽  1998-07-20   \n",
       "18133                                                NaN  1973-03-02   \n",
       "18134                                                NaN  1977-06-29   \n",
       "18135                                                NaN  1978-02-14   \n",
       "18136                                                체험장  2009-11-19   \n",
       "\n",
       "                  관리기관명          전화번호     데이터기준일자   제공기관코드      제공기관명  \\\n",
       "0      부산광역시 강서구청 녹지공원과  051-970-4536  2019-05-02  3360000  부산광역시 강서구   \n",
       "1      부산광역시 강서구청 녹지공원과  051-970-4536  2019-05-02  3360000  부산광역시 강서구   \n",
       "2      부산광역시 강서구청 녹지공원과  051-970-4536  2019-05-02  3360000  부산광역시 강서구   \n",
       "3      부산광역시 강서구청 녹지공원과  051-970-4536  2019-05-02  3360000  부산광역시 강서구   \n",
       "4      부산광역시 강서구청 녹지공원과  051-970-4536  2019-05-02  3360000  부산광역시 강서구   \n",
       "...                 ...           ...         ...      ...        ...   \n",
       "18132         인천광역시 동구청  032-770-6205  2019-07-30  3500000   인천광역시 동구   \n",
       "18133         경상북도 영양군청  054-680-6340  2019-09-05  5170000   경상북도 영양군   \n",
       "18134         경상북도 영양군청  054-680-6340  2019-09-05  5170000   경상북도 영양군   \n",
       "18135         경상북도 영양군청  054-680-6340  2019-09-05  5170000   경상북도 영양군   \n",
       "18136         경상북도 영양군청  054-680-6340  2019-09-05  5170000   경상북도 영양군   \n",
       "\n",
       "       Unnamed: 19  \n",
       "0              NaN  \n",
       "1              NaN  \n",
       "2              NaN  \n",
       "3              NaN  \n",
       "4              NaN  \n",
       "...            ...  \n",
       "18132          NaN  \n",
       "18133          NaN  \n",
       "18134          NaN  \n",
       "18135          NaN  \n",
       "18136          NaN  \n",
       "\n",
       "[18137 rows x 20 columns]"
      ]
     },
     "execution_count": 68,
     "metadata": {},
     "output_type": "execute_result"
    }
   ],
   "source": [
    "df"
   ]
  },
  {
   "cell_type": "code",
   "execution_count": 69,
   "id": "59c7fc64",
   "metadata": {},
   "outputs": [],
   "source": [
    "import re"
   ]
  },
  {
   "cell_type": "code",
   "execution_count": 78,
   "id": "5cbe99e0",
   "metadata": {},
   "outputs": [
    {
     "data": {
      "text/plain": [
       "'010-**34-56**'"
      ]
     },
     "execution_count": 78,
     "metadata": {},
     "output_type": "execute_result"
    }
   ],
   "source": [
    "re.sub('(\\d{3})-(\\d{1,2})(\\d{2})-(\\d{2})(\\d{2})', r'\\1-**\\3-\\4**', '010-1234-5678')"
   ]
  },
  {
   "cell_type": "code",
   "execution_count": 80,
   "id": "79c5a8e1",
   "metadata": {},
   "outputs": [
    {
     "data": {
      "text/plain": [
       "'010-1**-**78'"
      ]
     },
     "execution_count": 80,
     "metadata": {},
     "output_type": "execute_result"
    }
   ],
   "source": [
    "re.sub('(\\d{3})-(\\d{1,2})(\\d{2})-(\\d{2})(\\d{2})', r'\\1-\\2**-**\\5', '010-123-5678')"
   ]
  },
  {
   "cell_type": "code",
   "execution_count": 89,
   "id": "4a19b118",
   "metadata": {},
   "outputs": [
    {
     "data": {
      "text/plain": [
       "'+82-10-****-**78'"
      ]
     },
     "execution_count": 89,
     "metadata": {},
     "output_type": "execute_result"
    }
   ],
   "source": [
    "phone='+82-10-1234-5678'\n",
    "def mask_phone_number(phone):\n",
    "    if pd.isnull(phone):\n",
    "        return phone\n",
    "    num=phone.split('-')\n",
    "    num_len=len(num)//2\n",
    "    num[num_len]=re.sub(\"\\d\",\"*\",num[num_len])\n",
    "    num[-1]=re.sub(\"(\\d{2})(\\d{2})\", r'**\\2', num[-1])\n",
    "    return '-'.join(num)\n",
    "\n",
    "mask_phone_number(phone)"
   ]
  },
  {
   "cell_type": "code",
   "execution_count": 95,
   "id": "73e66bae",
   "metadata": {},
   "outputs": [
    {
     "data": {
      "text/html": [
       "<div>\n",
       "<style scoped>\n",
       "    .dataframe tbody tr th:only-of-type {\n",
       "        vertical-align: middle;\n",
       "    }\n",
       "\n",
       "    .dataframe tbody tr th {\n",
       "        vertical-align: top;\n",
       "    }\n",
       "\n",
       "    .dataframe thead th {\n",
       "        text-align: right;\n",
       "    }\n",
       "</style>\n",
       "<table border=\"1\" class=\"dataframe\">\n",
       "  <thead>\n",
       "    <tr style=\"text-align: right;\">\n",
       "      <th></th>\n",
       "      <th>공원명</th>\n",
       "      <th>전화번호</th>\n",
       "      <th>전화번호(전처리)</th>\n",
       "    </tr>\n",
       "  </thead>\n",
       "  <tbody>\n",
       "    <tr>\n",
       "      <th>0</th>\n",
       "      <td>구랑공원</td>\n",
       "      <td>051-970-4536</td>\n",
       "      <td>051-***-**36</td>\n",
       "    </tr>\n",
       "    <tr>\n",
       "      <th>1</th>\n",
       "      <td>압곡공원</td>\n",
       "      <td>051-970-4536</td>\n",
       "      <td>051-***-**36</td>\n",
       "    </tr>\n",
       "    <tr>\n",
       "      <th>2</th>\n",
       "      <td>서연정공원</td>\n",
       "      <td>051-970-4536</td>\n",
       "      <td>051-***-**36</td>\n",
       "    </tr>\n",
       "    <tr>\n",
       "      <th>3</th>\n",
       "      <td>용두공원</td>\n",
       "      <td>051-970-4536</td>\n",
       "      <td>051-***-**36</td>\n",
       "    </tr>\n",
       "    <tr>\n",
       "      <th>4</th>\n",
       "      <td>새동내공원</td>\n",
       "      <td>051-970-4536</td>\n",
       "      <td>051-***-**36</td>\n",
       "    </tr>\n",
       "  </tbody>\n",
       "</table>\n",
       "</div>"
      ],
      "text/plain": [
       "     공원명          전화번호     전화번호(전처리)\n",
       "0   구랑공원  051-970-4536  051-***-**36\n",
       "1   압곡공원  051-970-4536  051-***-**36\n",
       "2  서연정공원  051-970-4536  051-***-**36\n",
       "3   용두공원  051-970-4536  051-***-**36\n",
       "4  새동내공원  051-970-4536  051-***-**36"
      ]
     },
     "execution_count": 95,
     "metadata": {},
     "output_type": "execute_result"
    }
   ],
   "source": [
    "df['전화번호(전처리)']=df['전화번호'].map(mask_phone_number)\n",
    "df[['공원명', '전화번호', '전화번호(전처리)']].head()"
   ]
  },
  {
   "cell_type": "code",
   "execution_count": 99,
   "id": "e30f7a85",
   "metadata": {},
   "outputs": [
    {
     "data": {
      "text/plain": [
       "'xxxxxx@xxxx.xxx'"
      ]
     },
     "execution_count": 99,
     "metadata": {},
     "output_type": "execute_result"
    }
   ],
   "source": [
    "email='address@mail.com'\n",
    "re.sub('[^@.]', 'x', email)"
   ]
  },
  {
   "cell_type": "code",
   "execution_count": 110,
   "id": "ce6fa1a0",
   "metadata": {},
   "outputs": [],
   "source": [
    "email='address@mail.com'\n",
    "address, domain=email.split('@')"
   ]
  },
  {
   "cell_type": "code",
   "execution_count": 111,
   "id": "74a1e0e6",
   "metadata": {},
   "outputs": [
    {
     "name": "stdout",
     "output_type": "stream",
     "text": [
      "a*****s@mail.com\n",
      "address@mail.com\n"
     ]
    }
   ],
   "source": [
    "mask=re.sub(\"\\w\",\"*\",address[1:-1])\n",
    "print(f'{address[0]}{mask}{address[-1]}@{domain}')\n",
    "print(email)"
   ]
  },
  {
   "cell_type": "code",
   "execution_count": 112,
   "id": "9fb4382f",
   "metadata": {},
   "outputs": [
    {
     "data": {
      "text/plain": [
       "'a*****s@mail.com'"
      ]
     },
     "execution_count": 112,
     "metadata": {},
     "output_type": "execute_result"
    }
   ],
   "source": [
    "def mask_email(email):\n",
    "    address, domain=email.split('@')\n",
    "    return f'{address[0]}{mask}{address[-1]}@{domain}'\n",
    "mask_email(email)"
   ]
  },
  {
   "cell_type": "code",
   "execution_count": 113,
   "id": "4786168f",
   "metadata": {},
   "outputs": [],
   "source": [
    "car_num=\"32가1234\""
   ]
  },
  {
   "cell_type": "code",
   "execution_count": 127,
   "id": "afe71751",
   "metadata": {},
   "outputs": [
    {
     "data": {
      "text/plain": [
       "'3*가1**4'"
      ]
     },
     "execution_count": 127,
     "metadata": {},
     "output_type": "execute_result"
    }
   ],
   "source": [
    "re.sub('([0-9])([가-힣])(\\d)(\\d{2})(\\d)', r'*\\2\\3**\\5', car_num)"
   ]
  },
  {
   "cell_type": "code",
   "execution_count": null,
   "id": "263db964",
   "metadata": {},
   "outputs": [],
   "source": []
  }
 ],
 "metadata": {
  "kernelspec": {
   "display_name": "Python 3",
   "language": "python",
   "name": "python3"
  },
  "language_info": {
   "codemirror_mode": {
    "name": "ipython",
    "version": 3
   },
   "file_extension": ".py",
   "mimetype": "text/x-python",
   "name": "python",
   "nbconvert_exporter": "python",
   "pygments_lexer": "ipython3",
   "version": "3.8.8"
  },
  "toc": {
   "base_numbering": 1,
   "nav_menu": {},
   "number_sections": true,
   "sideBar": true,
   "skip_h1_title": false,
   "title_cell": "Table of Contents",
   "title_sidebar": "Contents",
   "toc_cell": false,
   "toc_position": {},
   "toc_section_display": true,
   "toc_window_display": false
  },
  "varInspector": {
   "cols": {
    "lenName": 16,
    "lenType": 16,
    "lenVar": 40
   },
   "kernels_config": {
    "python": {
     "delete_cmd_postfix": "",
     "delete_cmd_prefix": "del ",
     "library": "var_list.py",
     "varRefreshCmd": "print(var_dic_list())"
    },
    "r": {
     "delete_cmd_postfix": ") ",
     "delete_cmd_prefix": "rm(",
     "library": "var_list.r",
     "varRefreshCmd": "cat(var_dic_list()) "
    }
   },
   "types_to_exclude": [
    "module",
    "function",
    "builtin_function_or_method",
    "instance",
    "_Feature"
   ],
   "window_display": false
  }
 },
 "nbformat": 4,
 "nbformat_minor": 5
}
